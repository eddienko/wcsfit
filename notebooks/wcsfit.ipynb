{
 "cells": [
  {
   "cell_type": "markdown",
   "metadata": {},
   "source": [
    "This document describes ``wcsfit``, the software used to perform astrometric calibration on OU-VIS images.\n",
    "\n",
    "The general philosophy is that the geometrical distortion due to the optics and the focal plane array (including CCD rotation and tiling) is fixed and can be modelled using a high enough dense field. Once this model is determined with suitable calibration observations it can be applied to any observation; the only additional step required is then to solve for a the rotation, scale and translation due to the inacuracy of the initial astrometry.\n",
    "\n",
    "This modules takes as input a Euclid OU-VIS MEF file containing CCD images and an astrometric reference catalogue. The code works by extracting a catalogue from the images and matching it to the reference catalogue. The astrometric fitting is an iterative process where 1) the offset between computed and reference coordinates is corrected, 2) a transformation including scaling, rotation and offset is computed and corrected and 3) optionally the astrometric model is fitted and refined. "
   ]
  },
  {
   "cell_type": "code",
   "execution_count": 1,
   "metadata": {
    "collapsed": false
   },
   "outputs": [
    {
     "data": {
      "text/plain": [
       "'wcsfit version 201610'"
      ]
     },
     "execution_count": 1,
     "metadata": {},
     "output_type": "execute_result"
    }
   ],
   "source": [
    "import wcsfit\n",
    "'wcsfit version {}'.format(wcsfit.__version__)"
   ]
  },
  {
   "cell_type": "markdown",
   "metadata": {},
   "source": [
    "# Requirements\n",
    "The following Python modules are required:\n",
    "\n",
    " * numpy\n",
    " * scipy\n",
    " * astropy (compiled with wcslib >= 5.9)\n",
    " * configobj\n",
    " \n",
    "The following TPS are required:\n",
    "\n",
    " * casutools/imcore >= 1.0.30\n",
    " \n",
    "(note that casutools/wcsfit is not longer a requirement)"
   ]
  },
  {
   "cell_type": "markdown",
   "metadata": {},
   "source": [
    "# Code repository\n",
    "\n",
    "The code resides in the ESA svn repository. To get a copy of the current version:\n",
    "\n",
    "`svn co http://euclid.esac.esa.int/svn/EC/SGS/OU/VIS/ \\\n",
    "4-3-01-3500_AstrometricCalibration/trunk/AstrometricCalibration`\n",
    "\n",
    "The `wcsfit.py` file is in the directory `prototype` together with `wcsfit.conf` containing the calculated distortion model and several documentaion files."
   ]
  },
  {
   "cell_type": "markdown",
   "metadata": {},
   "source": [
    "# Command line usage\n",
    "\n",
    "The following inputs are needed:\n",
    "\n",
    "  * image.fits: a MEF containing 1 to 36 CCD images\n",
    "  * image.weight.fits: a MEF containing an Euclid weight map, same number of extensions as the input image. \n",
    "  * refcat.fits: reference star catalogue\n",
    "  * wcsfit.conf: a file containing the astrometric model to use\n",
    "  \n",
    "The command line for fitting the astrometry is:\n",
    "\n",
    "`python wcsfit.py image.fits refcat.fits \\\n",
    "    --weight image.weight.fits \\\n",
    "    --wcsconf wcsfit.conf \\\n",
    "    --debug`\n",
    "    \n",
    "Or to run without predefined distortion model\n",
    "\n",
    "`python wcsfit.py image.fits refcat.fits \\\n",
    "    --weight image.weight.fits \\\n",
    "    --wcsconf noconf --fitpv \\\n",
    "    --debug`\n",
    "\n",
    "The weight map is optional. Other command line switches can be found typing `python wcsfit.py --help` or reading the code documentation using `pydoc wcsfit`."
   ]
  },
  {
   "cell_type": "markdown",
   "metadata": {},
   "source": [
    "The rest of the document describes more in detail the code and the different functions available."
   ]
  },
  {
   "cell_type": "markdown",
   "metadata": {},
   "source": [
    "# Prepare input image"
   ]
  },
  {
   "cell_type": "markdown",
   "metadata": {},
   "source": [
    "The output of the OU-VIS simulator is a MEF file containing 144 quadrants. We first need to create a MEF file containing one CCD in each extension. During the pipeline running this is done before this module is called but here we have a convenience function to do this ourselves. For this we use ``merge_quadrants`` which will create another file appending ``_ccd`` to the file name.\n",
    "\n",
    "We set the log level to DEBUG and start merging the quadrants."
   ]
  },
  {
   "cell_type": "code",
   "execution_count": 2,
   "metadata": {
    "collapsed": true
   },
   "outputs": [],
   "source": [
    "wcsfit.logger.setLevel(wcsfit.logging.DEBUG)"
   ]
  },
  {
   "cell_type": "code",
   "execution_count": 3,
   "metadata": {
    "collapsed": false
   },
   "outputs": [
    {
     "name": "stderr",
     "output_type": "stream",
     "text": [
      "wcsfit:INFO:merging quadrants into CCD image (simone.fits)\n",
      "wcsfit:INFO:output image already exists simone_ccd.fits\n"
     ]
    }
   ],
   "source": [
    "wcsfit.merge_quadrants('simone.fits')"
   ]
  },
  {
   "cell_type": "markdown",
   "metadata": {},
   "source": [
    "We can then start to work with the CCD MEF image file. For this doc we extract a single CCD image from the full mosaic. We open it in update mode but we can also open readonly and write the result to another file at the end."
   ]
  },
  {
   "cell_type": "code",
   "execution_count": 4,
   "metadata": {
    "collapsed": false
   },
   "outputs": [],
   "source": [
    "wcsfit.extract_extension('simone_ccd.fits', \\\n",
    "                         'simone_ccd_2.fits', \\\n",
    "                         2, clobber=True)"
   ]
  },
  {
   "cell_type": "code",
   "execution_count": 5,
   "metadata": {
    "collapsed": true
   },
   "outputs": [],
   "source": [
    "img = wcsfit.CCDImage('simone_ccd_2.fits', mode='update')"
   ]
  },
  {
   "cell_type": "markdown",
   "metadata": {},
   "source": [
    "# Initialize headers and WCS information\n",
    "\n",
    "In order to start working with the image we have to inialize the headers, i.e. write default values for a few keywords. We move the reference point of each CCD to its center, setting CRPIX1, CRPIX2 = NAXIS1/2, NAXIS2/2 and calculating the value of CRVAL1, CRVAL2 using the original WCS information. \n",
    "\n",
    "We also set the projection to be TPV and define an initial set of 3 degree polynomial coefficients (see below). The projection written in this step is basically a TAN projection described as TPV with no distortion (i.e. all PV zero except PV1_1 and PV2_1 which are 1)."
   ]
  },
  {
   "cell_type": "code",
   "execution_count": 6,
   "metadata": {
    "collapsed": false
   },
   "outputs": [
    {
     "name": "stderr",
     "output_type": "stream",
     "text": [
      "wcsfit:INFO:writing initial astrometric solution (ccd)\n"
     ]
    }
   ],
   "source": [
    "img.init_astrometry()"
   ]
  },
  {
   "cell_type": "markdown",
   "metadata": {},
   "source": [
    "The package includes an astrometric model derived from a (simulated) observation of a high dense field, containing a uniform distribution of around 600 stars per CCD. \n",
    "\n",
    "This model can be added to the headers using the command below. If we want to derive the model from scratch from a high enough dense field we can skip this command."
   ]
  },
  {
   "cell_type": "code",
   "execution_count": 7,
   "metadata": {
    "collapsed": false
   },
   "outputs": [
    {
     "name": "stderr",
     "output_type": "stream",
     "text": [
      "wcsfit:INFO:adding distortion coefficients\n"
     ]
    }
   ],
   "source": [
    "img.add_astrometric_distortion('wcsfit.conf')"
   ]
  },
  {
   "cell_type": "markdown",
   "metadata": {},
   "source": [
    "# Object detection\n",
    "\n",
    "Object detection is performed using ``imcore`` from ``casutools``. In order to work, ``imcore`` needs to be in the ``PATH`` or in the ``IMCORE`` environmental variable."
   ]
  },
  {
   "cell_type": "code",
   "execution_count": 8,
   "metadata": {
    "collapsed": false
   },
   "outputs": [
    {
     "name": "stderr",
     "output_type": "stream",
     "text": [
      "wcsfit:INFO:IMCORE: /soft/imcore\n"
     ]
    }
   ],
   "source": [
    "wcsfit.IMCORE='/soft/imcore'\n",
    "wcsfit.check_exe_in_path()"
   ]
  },
  {
   "cell_type": "markdown",
   "metadata": {},
   "source": [
    "When running imcore a catalogue FITS file will be created where each extension contains the objects detected in each of the extension images."
   ]
  },
  {
   "cell_type": "code",
   "execution_count": 9,
   "metadata": {
    "collapsed": false
   },
   "outputs": [
    {
     "name": "stderr",
     "output_type": "stream",
     "text": [
      "wcsfit:INFO:detecting objects on images\n"
     ]
    }
   ],
   "source": [
    "_ = img.find_stars()"
   ]
  },
  {
   "cell_type": "markdown",
   "metadata": {},
   "source": [
    "TODO: Add a note on using weight maps."
   ]
  },
  {
   "cell_type": "markdown",
   "metadata": {},
   "source": [
    "# Fitting\n",
    "The fitting is done iteratively. Each iteration contains a coordinate offset, an affine transformation and an optional model distortion fit. These steps are iterated until convergence."
   ]
  },
  {
   "cell_type": "markdown",
   "metadata": {},
   "source": [
    "## Coordinate offset\n",
    "\n",
    "The first step is to compute and correct for any offset between the input catalogue coordinates and the reference catalogue using the original WCS in the header. An optimal match radius between both catalogues is computed using their nearest neighbour distribution. The CRVAL1, CRVAL2 values are updated accordingly."
   ]
  },
  {
   "cell_type": "markdown",
   "metadata": {},
   "source": [
    "## Rotation, scale and translation"
   ]
  },
  {
   "cell_type": "markdown",
   "metadata": {},
   "source": [
    "This step uses the $x, y$ coordinates of the detected objects and the standard coordinates $\\xi, \\eta$ of the reference stars to construct a set of equations in the form\n",
    "\n",
    "\\begin{equation*}\n",
    "\\begin{array}{ll}\n",
    "\\xi - \\xi_0 & =  cd_{11} \\times (x - x_0) + cd_{12} \\times (y - y_0)  \\\\\n",
    "\\eta - \\eta_0& = cd_{21} \\times (x - x_0) + cd_{22} \\times (y - y_0)\n",
    "\\end{array}\n",
    "\\end{equation*}\n",
    "\n",
    "Where $cd_{ij}$ is the CD matrix, $x_0, y_0$ is the reference pixel and $\\xi_0, \\eta_0$ account for an offset in standard coordinates. In matrix notation $TX = Y$ where $T$ is the transformation matrix:\n",
    "\n",
    "\\begin{equation*}\n",
    "\\begin{bmatrix} cd_{11} & cd_{12} & \\xi_0 \\\\ cd_{21} & cd_{22} & \\eta_0 \\\\ 0& 0 & 1 \\end{bmatrix} \\times \\left[ \\begin{array}{c} x - x_0 \\\\ y - y_0 \\\\ 1 \\end{array} \\right] = \\left[ \\begin{array}{c} \\xi \\\\ \\eta \\\\ 1 \\end{array} \\right]\n",
    "\\end{equation*}\n",
    "\n",
    "Note that $cd_{11}=-cd_{22}$ and $cd_{12} = cd_{21}$ giving an extra simplication. This set of equations can be numerically solved using least squares minimization (``scipy.optimize.least_squares``) or analitically solved. ``wcsfit`` incorporates both methods and give the same result. Note that ``least_squares`` optimizes the sum of the squares of the residuals. Other optimizations (e.g. the sum of the absolute values of the residuals) can be implemented in next versions."
   ]
  },
  {
   "cell_type": "markdown",
   "metadata": {},
   "source": [
    "## Model distortion\n",
    "\n",
    "wcsfit uses a precomputed distortion model which is written in the headers. This distortion model is derived from a calibration field with enough stars to provide a good fit. The model can be refined or created from scratch using the ``--fitpv`` flag.\n",
    "\n",
    "\\begin{equation*}\n",
    "\\begin{array}{ll}\n",
    "\\xi & =  cd_{11} \\times (x - x_0) + cd_{12} \\times (y - y_0)  \\\\\n",
    "\\eta & = cd_{21} \\times (x - x_0) + cd_{22} \\times (y - y_0) \n",
    "\\end{array}\n",
    "\\end{equation*}\n",
    "\n",
    "\\begin{equation*}\n",
    "\\begin{array}{ll}\n",
    "\\xi' & =  pv_{10} + pv_{11} \\times \\xi + pv_{12} \\times \\eta  + pv_{13} \\times r + pv_{14} \\times \\xi^2 + pv_{15} \\times \\xi \\times \\eta + pv_{16} \\times \\eta^2 + \\dots \\\\\n",
    "\\eta' & =  pv_{20} + pv_{21} \\times \\xi + pv_{22} \\times \\eta + pv_{23} \\times r + pv_{24} \\times \\eta^2 + pv_{25} \\times \\eta \\times \\xi + pv_{26} \\times \\xi^2 +\\dots\n",
    "\\end{array}\n",
    "\\end{equation*}\n",
    "\n",
    "where $r = \\sqrt{\\xi^2 + \\eta^2}$. This is a set of linear equations solved by least squares.\n"
   ]
  },
  {
   "cell_type": "markdown",
   "metadata": {},
   "source": [
    "## Pipeline mode\n",
    "\n",
    "In this case we have added the pre-computed distortion model to the headers using `add_astrometric_distortion()` as described above and simply run:"
   ]
  },
  {
   "cell_type": "code",
   "execution_count": 10,
   "metadata": {
    "collapsed": false
   },
   "outputs": [
    {
     "name": "stderr",
     "output_type": "stream",
     "text": [
      "wcsfit:INFO:fitting astrometry\n",
      "wcsfit:INFO:First pass offset dRA: -5.67966216852, dDEC: -5.67029141652, RMS: 0.743772869994, NUM: 543\n",
      "wcsfit:DEBUG:Iter 0 - r: 2.75714549424e-05 s: 8.10175760022e-10, tx, ty: 2.72031395907e-05 , 6.55302576759e-05\n",
      "wcsfit:DEBUG:Iter 0 - RMS: 0.00190770364134 Difference: 0.741865166353\n",
      "wcsfit:DEBUG:Iter 1 - r: 2.75714928009e-05 s: 8.26220143843e-10, tx, ty: 4.5324660938e-08 , 8.69786356234e-08\n",
      "wcsfit:DEBUG:Iter 1 - RMS: 0.00107167442582 Difference: 0.000967534541076\n",
      "wcsfit:INFO:1 CCDID: 1-5 Offset: 0.00279399388659 RMS: 0.00108224285873\n"
     ]
    }
   ],
   "source": [
    "img.wcsfit(refcat='grid_v2.fits')"
   ]
  },
  {
   "cell_type": "markdown",
   "metadata": {},
   "source": [
    "This command simply calculates the affine transformation described above and updates the headers. This is iterated until convergence. It outputs several messages about the fitting procedure."
   ]
  },
  {
   "cell_type": "markdown",
   "metadata": {},
   "source": [
    "Summary of results, printing for each CCD the number of reference stars used in the fit and the WCS rms in arcsec."
   ]
  },
  {
   "cell_type": "code",
   "execution_count": 11,
   "metadata": {
    "collapsed": false
   },
   "outputs": [
    {
     "name": "stderr",
     "output_type": "stream",
     "text": [
      "wcsfit:INFO:simone_ccd_2.fits[1] CCDID: 1-5 NUMBRMS: 535 STDCRMS: 0.001082\n"
     ]
    }
   ],
   "source": [
    "wcsfit.print_summary('simone_ccd_2.fits')"
   ]
  },
  {
   "cell_type": "markdown",
   "metadata": {},
   "source": [
    "# Distortion plots\n",
    "\n",
    "The following  figures show the distortion in $\\xi$ and $\\eta$ for the full FPA.\n",
    "\n",
    "![](distort_radec.png 'radec')\n",
    "\n",
    "And the quiver diagram:\n",
    "\n",
    "![](distort_quiver.png 'quiver')\n",
    "\n",
    "These coincide very well with the plots showing the input distortion.\n"
   ]
  }
 ],
 "metadata": {
  "kernelspec": {
   "display_name": "Python 2",
   "language": "python",
   "name": "python2"
  },
  "language_info": {
   "codemirror_mode": {
    "name": "ipython",
    "version": 2
   },
   "file_extension": ".py",
   "mimetype": "text/x-python",
   "name": "python",
   "nbconvert_exporter": "python",
   "pygments_lexer": "ipython2",
   "version": "2.7.12"
  }
 },
 "nbformat": 4,
 "nbformat_minor": 1
}
